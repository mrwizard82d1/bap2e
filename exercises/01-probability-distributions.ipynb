{
 "cells": [
  {
   "cell_type": "markdown",
   "metadata": {
    "collapsed": true,
    "pycharm": {
     "name": "#%% md\n"
    }
   },
   "source": [
    "1. What expression corresponds to the sentence, _The probability of being sunny given is that it is 9th of July of 1816?\n",
    "\n",
    "    p(sunny | 9th of July of 1816)\n",
    "    \n",
    "    However, the product rule states:\n",
    "    \n",
    "    $ p(A, B) = p(A|B)p(B) $\n",
    "    \n",
    "    which can be rearranged to:\n",
    "    \n",
    "    $ p(A|B) = \\frac{p(A, B)}{p(B)} $\n",
    "    \n",
    "    if we replace A with \"sunny\" and B with \"9th of July of 1816,\" then we see that the expression\n",
    "    \n",
    "    $ \\frac{p(sunny, 9th\\ of\\ July\\ of\\ 1816)}{p(9th\\ of\\ July\\ of\\ 1816)} = p(sunny | 9th\\ of\\ July\\ of\\ 1816) $\n",
    "    \n",
    "    Therefore, \n",
    "    \n",
    "    $ \\frac{p(sunny, 9th\\ of\\ July\\ 1816)}{p(9th\\ of\\ July\\ of\\ 1816)} $ also corresponds to the sentence."
   ]
  },
  {
   "cell_type": "markdown",
   "source": [
    "2. Show that the probability of choosing a human at random and picking the Pope is not the same as the probability of\n",
    " the Pope being human.\n",
    " \n",
    "    The probabilities of interest are:\n",
    "\n",
    "        - The probability that you pick the Pope given that you pick a human: p(Pope | human)\n",
    "        - The probability that you pick a humane given that you pick the Pope: p(human | Pope)\n",
    "\n",
    "    The population of the world as of March 2020 is estimated at 7.8 billion people. The Pope is exactly one of those \n",
    "    people. Consequently, \n",
    "\n",
    "    $p(Pope | human) = \\frac{1}{7,800,000,000}$\n",
    "        \n",
    "    Assuming we are not in *Futurama*, then\n",
    "\n",
    "    $p(human | Pope) = 1$\n",
    "        \n",
    "    If we live in *Futurama*, then the calculations both change because the Pope is **not** human.\n",
    "\n",
    "    $p(human | Pope) = 0$<br/>\n",
    "    $p(Pope | human) = 0$"
   ],
   "metadata": {
    "collapsed": false
   }
  }
 ],
 "metadata": {
  "kernelspec": {
   "display_name": "Python 3",
   "language": "python",
   "name": "python3"
  },
  "language_info": {
   "codemirror_mode": {
    "name": "ipython",
    "version": 2
   },
   "file_extension": ".py",
   "mimetype": "text/x-python",
   "name": "python",
   "nbconvert_exporter": "python",
   "pygments_lexer": "ipython2",
   "version": "2.7.6"
  },
  "pycharm": {
   "stem_cell": {
    "cell_type": "raw",
    "source": [],
    "metadata": {
     "collapsed": false
    }
   }
  }
 },
 "nbformat": 4,
 "nbformat_minor": 0
}
