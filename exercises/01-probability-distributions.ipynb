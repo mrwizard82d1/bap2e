{
 "cells": [
  {
   "cell_type": "markdown",
   "metadata": {
    "pycharm": {
     "name": "#%% md\n"
    }
   },
   "source": [
    "1. What expression corresponds to the sentence, _The probability of being sunny given is that it is 9th of July of 1816?\n",
    "\n",
    "    p(sunny | 9th of July of 1816)\n",
    "    \n",
    "    However, the product rule states:\n",
    "    \n",
    "    $ p(A, B) = p(A|B)p(B) $\n",
    "    \n",
    "    which can be rearranged to:\n",
    "    \n",
    "    $ p(A|B) = \\frac{p(A, B)}{p(B)} $\n",
    "    \n",
    "    if we replace A with \"sunny\" and B with \"9th of July of 1816,\" then we see that the expression\n",
    "    \n",
    "    $ \\frac{p(sunny, 9th\\ of\\ July\\ of\\ 1816)}{p(9th\\ of\\ July\\ of\\ 1816)} = p(sunny | 9th\\ of\\ July\\ of\\ 1816) $\n",
    "    \n",
    "    Therefore, \n",
    "    \n",
    "    $ \\frac{p(sunny, 9th\\ of\\ July\\ 1816)}{p(9th\\ of\\ July\\ of\\ 1816)} $ also corresponds to the sentence."
   ]
  },
  {
   "cell_type": "markdown",
   "metadata": {},
   "source": [
    "2. Show that the probability of choosing a human at random and picking the Pope is not the same as the probability of\n",
    " the Pope being human.\n",
    " \n",
    "    The probabilities of interest are:\n",
    "\n",
    "        - The probability that you pick the Pope given that you pick a human: p(Pope | human)\n",
    "        - The probability that you pick a humane given that you pick the Pope: p(human | Pope)\n",
    "\n",
    "    The population of the world as of March 2020 is estimated at 7.8 billion people. The Pope is exactly one of those \n",
    "    people. Consequently, \n",
    "\n",
    "    $p(Pope | human) = \\frac{1}{7,800,000,000}$\n",
    "        \n",
    "    Assuming we are not in *Futurama*, then\n",
    "\n",
    "    $p(human | Pope) = 1$\n",
    "        \n",
    "    If we live in *Futurama*, then the calculations both change because the Pope is **not** human.\n",
    "\n",
    "    $p(human | Pope) = 0$<br/>\n",
    "    $p(Pope | human) = 0$\n",
    "    "
   ]
  },
  {
   "cell_type": "markdown",
   "metadata": {
    "pycharm": {
     "name": "#%% md\n"
    }
   },
   "source": [
    "3. In the following definition of a probabilistic model, identify the prior and the likelihood:\n",
    "\n",
    "    $y _{i} \\sim Normal(\\mu, \\sigma)$<br/>\n",
    "    $\\mu \\sim Normal(0, 10)$<br/>\n",
    "    $\\sigma \\sim HalfNormal(25)$<br/>\n",
    "\n",
    "    - Likelihood \n",
    "        - $y _{i} \\sim Normal(\\mu, \\sigma)$<br/>\n",
    "\n",
    "    - Prior \n",
    "        - $\\mu \\sim Normal(0, 10)$ \n",
    "        - $\\sigma \\sim HalfNormal(25)$<br/>"
   ]
  },
  {
   "cell_type": "markdown",
   "metadata": {
    "pycharm": {
     "name": "#%% md\n"
    }
   },
   "source": [
    "4. In the previous model, how many parameters will the posterior have? Compare it to the model for the \n",
    "coin-flipping problem.\n",
    "\n",
    "    The posterior in the previous problem has two parameters, $\\mu$ and $\\sigma$.\n",
    "    \n",
    "    In the coin-flipping problem, the posterior only has a single parameter, $\\theta$, modeling the \n",
    "    bias of the coin.\n",
    "    "
   ]
  },
  {
   "cell_type": "markdown",
   "metadata": {
    "pycharm": {
     "name": "#%% md\n"
    }
   },
   "source": [
    "5. Write the Bayes' theorem for the model in exercise 3.\n",
    "\n",
    "    $p(\\mu, \\sigma | y) = \\frac{p(y | \\mu, \\sigma) p(\\mu) p(\\sigma)}{p(y)}$\n",
    "    "
   ]
  },
  {
   "cell_type": "markdown",
   "source": [
    "6. Let's suppose we have two coins: when we toss the first coin, half of the time it lands tails and \n",
    "half of the time on heads. The other coin is a _loaded coin_ that always lands on heads. If we take one of the\n",
    "coins at random and get a head, what is the probability that is coin is the unfair one.\n",
    "\n",
    "    Here are our symbols for this problem:\n",
    "    \n",
    "        - F fair coin\n",
    "        - U unfair coin\n",
    "        - H heads\n",
    "        - T tails\n",
    "        \n",
    "    If we use Bayes' rule to model this problem, we have:\n",
    "    \n",
    "    $p(U | H) = \\frac{p(H | U) p(U)}{p(H | U) p(U) + p(H | F) p(F)}$\n",
    "    \n",
    "    If we then substitute what we know, this equation becomes:\n",
    "    \n",
    "    $p(U | H) = \\frac{1 \\times ^1/_2}{(1 \\times ^1/_2) + (^1/_2 \\times ^1/_2)}$\n",
    "    \n",
    "    Simplifying yields\n",
    "    \n",
    "    $ p(U | H) = \\frac {^1/_2} {^1/_2 + ^1/_4} $ <br/>\n",
    "    $ p(U | H) = \\frac {^1/_2} {^3/_4} $ <br/>\n",
    "    $ p(U | H) = \\,^2/_3 $\n",
    "    "
   ],
   "metadata": {
    "collapsed": false,
    "pycharm": {
     "name": "#%% md\n"
    }
   }
  }
 ],
 "metadata": {
  "kernelspec": {
   "display_name": "Python 3",
   "language": "python",
   "name": "python3"
  },
  "language_info": {
   "codemirror_mode": {
    "name": "ipython",
    "version": 3
   },
   "file_extension": ".py",
   "mimetype": "text/x-python",
   "name": "python",
   "nbconvert_exporter": "python",
   "pygments_lexer": "ipython3",
   "version": "3.7.6"
  },
  "pycharm": {
   "stem_cell": {
    "cell_type": "raw",
    "source": [],
    "metadata": {
     "collapsed": false
    }
   }
  }
 },
 "nbformat": 4,
 "nbformat_minor": 4
}
