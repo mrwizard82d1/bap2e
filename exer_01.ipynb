{
 "cells": [
  {
   "cell_type": "markdown",
   "id": "b29c10c7-132e-4230-a6b3-e8fe336a77ef",
   "metadata": {},
   "source": [
    "# Exercises Ch. 01"
   ]
  },
  {
   "cell_type": "code",
   "execution_count": null,
   "id": "cf350357-6708-4eef-b69d-a81c74f4af01",
   "metadata": {},
   "outputs": [],
   "source": [
    "import numpy as np\n",
    "import matplotlib.pyplot as plt\n",
    "import pandas as pd\n",
    "import seaborn as sns\n",
    "import scipy"
   ]
  },
  {
   "cell_type": "code",
   "execution_count": null,
   "id": "14b6d188-4906-4309-964d-a67a07879359",
   "metadata": {},
   "outputs": [],
   "source": [
    "import arviz as az\n",
    "import pymc3 as pymc"
   ]
  },
  {
   "cell_type": "markdown",
   "id": "20299a81-3853-42d3-b389-f33f481f8887",
   "metadata": {},
   "source": [
    "## Exer. 1"
   ]
  },
  {
   "cell_type": "markdown",
   "id": "302bbbf8-36bf-41ed-985e-684751128736",
   "metadata": {},
   "source": [
    "The expression that reads, \"The probability of being sunny given that it is 09-Jul-1816\" is\n",
    "\n",
    "p(sunny | 09-Jul-1816)"
   ]
  },
  {
   "cell_type": "markdown",
   "id": "ee1b5d52-afb6-4758-b485-bfa62f717cf0",
   "metadata": {},
   "source": [
    "## Exer. 2"
   ]
  },
  {
   "cell_type": "markdown",
   "id": "d30877b6-1b8e-4e67-8bf5-85dd5f6f9c9f",
   "metadata": {},
   "source": [
    "The probability of choosing a human at random and picking the Pope is given by the expression:\n",
    "\n",
    "$$\n",
    "P(I\\ chose\\ the \\ Pope\\ |\\ I\\ have chosen\\ a\\ human\\ at\\ random) \\approx \\frac{1}{8,000,000}\n",
    "$$\n",
    "\n",
    "The probability of choosing a human given that I have chosen the Pope is:\n",
    "\n",
    "$$\n",
    "P(I\\ chose\\ a\\ human | I\\ have\\ chosen\\ the\\ Pope) = 1\n",
    "$$\n",
    "\n",
    "The probability of choosing the Space Pope from Futurama given I have chosen a human is zero. Similarly, the probabality of choosing a human given I have chosen the Space Pope is also zero."
   ]
  },
  {
   "cell_type": "markdown",
   "id": "cc001eff-5e0e-4457-8a4c-7cf9c84ce910",
   "metadata": {},
   "source": [
    "## Exer. 3"
   ]
  },
  {
   "cell_type": "markdown",
   "id": "8cfcdf36-9d70-439f-9204-7ae4860c2685",
   "metadata": {},
   "source": [
    "The expressions for the prior are:\n",
    "\n",
    "$$\n",
    "\\mu \\sim \\mathcal{Normal}(0, 10)\\\\\n",
    "and\\\\\n",
    "\\sigma \\sim \\mathcal{HalfNormal}(25)\n",
    "$$\n",
    "\n",
    "The expression for the likelihood is:\n",
    "\n",
    "$$\n",
    "y_{i} \\sim \\mathcal{Normal}(\\mu, \\sigma)\n",
    "$$"
   ]
  },
  {
   "cell_type": "markdown",
   "id": "e96eea81-8d19-4894-96ae-66cce7789d2e",
   "metadata": {},
   "source": [
    "## Exer. 4"
   ]
  },
  {
   "cell_type": "markdown",
   "id": "04034f65-1d13-4092-b799-dcb056f8d15a",
   "metadata": {},
   "source": [
    "For the previous problem, I'm a bit confused about how many paramaters the posterior has. Part of me wants to argue that the posterior is a distribution; consequently, it has no parameters. However, if we are thinking analytically, a Normal distribution is its own conjugate prior; consequently, the posterior would have two parameters, $\\mu_{posterior}$ and $\\sigma_{posterior}$.\n",
    "\n",
    "For the coin flipping problem, the prior is the beta distribution, $\\mathcal{Beta}(\\alpha, \\beta)$, the likelihood is the binomial distribution,\n",
    "$\\mathcal{Bin}(n, p)$, and the posterior is again a Beta distribution, $\\mathcal{Beta}(\\alpha\\_posterior, \\beta\\_posterior)$."
   ]
  },
  {
   "cell_type": "markdown",
   "id": "b62c8063-0ba0-4998-9014-f3212fce57da",
   "metadata": {},
   "source": [
    "## Exer. 5"
   ]
  },
  {
   "cell_type": "markdown",
   "id": "93d04d0c-7a5d-4059-8c75-4ae232f2598f",
   "metadata": {},
   "source": [
    "Bayes theorem for the model in exercise 3 is:\n",
    "\n",
    "$$\n",
    "P(\\mu_{posterior}, \\sigma_{posterior}) \\propto \\mathcal{Normal}(\\mu, \\sigma) \\mathcal{Normal}(\\mathcal{Normal}(0, 10), \\mathcal{HalfNormal}(25))\n",
    "$$"
   ]
  },
  {
   "cell_type": "markdown",
   "id": "4b4caea6-b072-463c-866a-62bfe40ff2a1",
   "metadata": {},
   "source": [
    "## Exer. 6"
   ]
  },
  {
   "cell_type": "markdown",
   "id": "f5786440-8037-4267-87ab-516eb0861d08",
   "metadata": {},
   "source": [
    "From Bayes' theorem, we have:\n",
    "\n",
    "$$\n",
    "p(\\theta | y) = \\frac{p(y | \\theta)p(\\theta)}{p(y)}\n",
    "$$\n",
    "\n",
    "In Bayes theorem, the terms of this equation are called:\n",
    "\n",
    "- $p(\\theta)$: Prior\n",
    "- $p(y | \\theta)$: Likelihood\n",
    "- $p(\\theta | y)$: Posterior\n",
    "- $p(y)$: Marginal likelihood (and a number of other names. For example, the total probability.)\n",
    "\n",
    "In this problem, $\\theta$ is the the hypothesis, \"The coin is the unfair one.\" The data, $y$, is \"I flipped the coin and observed heads.\" In concrete terms,\n",
    "\n",
    "- $p(\\theta) = \\frac{1}{2}$\n",
    "- $p(y | \\theta) = 1$\n",
    "- $p(y) = \\frac{1}{2}  + \\frac{1}{2} \\frac{1}{2}$\n",
    "\n",
    "Therefore, the posterior probability is: $\\frac{2}{3}$."
   ]
  },
  {
   "cell_type": "markdown",
   "id": "55251b75-b267-4455-9519-540c98c62b24",
   "metadata": {},
   "source": [
    "## Exer. 7"
   ]
  },
  {
   "cell_type": "code",
   "execution_count": null,
   "id": "ba95dfbc-5e26-4f95-88c7-d659ae2cccd3",
   "metadata": {},
   "outputs": [],
   "source": [
    "# Here is the original code.\n",
    "\n",
    "plt.figure(figsize=(10, 8))\n",
    "\n",
    "n_trials = [0, 1, 2, 3, 4, 8, 16, 32, 59, 150]\n",
    "data = [0, 1, 1, 1, 1, 4, 6, 9, 13, 48]\n",
    "theta_real = 0.35\n",
    "\n",
    "beta_params = [(1, 1), (20, 20), (1, 4)]\n",
    "dist = scipy.stats.beta\n",
    "x = np.linspace(0, 1, 200)\n",
    "\n",
    "for idx, N in enumerate(n_trials):\n",
    "    if idx == 0:\n",
    "        plt.subplot(4, 3, 2)\n",
    "        plt.xlabel('Θ')\n",
    "    else:\n",
    "        plt.subplot(4, 3, idx + 3)\n",
    "        plt.xticks([])\n",
    "        \n",
    "    y = data[idx]\n",
    "    for (a_prior, b_prior) in beta_params:\n",
    "        p_theta_given_y = dist.pdf(x, a_prior + y, b_prior + N - y)\n",
    "        plt.fill_between(x, 0, p_theta_given_y, alpha=0.7)\n",
    "        \n",
    "    plt.axvline(theta_real, ymax=0.3, color='k')\n",
    "    plt.plot(0, 0, label=f'{N:4d} trials\\n{y:4d} heads', alpha=0)\n",
    "    plt.xlim(0, 1)\n",
    "    plt.ylim(0, 12)\n",
    "    plt.legend()\n",
    "    plt.yticks([])\n",
    "\n",
    "plt.tight_layout()\n",
    "plt.show()"
   ]
  },
  {
   "cell_type": "code",
   "execution_count": null,
   "id": "603fa727-504c-48b2-afe0-8762e6f92856",
   "metadata": {},
   "outputs": [],
   "source": [
    "# Here is the code that adds the observed rate; that is, (number of heads) / (number of tosses).\n",
    "\n",
    "plt.figure(figsize=(10, 8))\n",
    "\n",
    "n_trials = [0, 1, 2, 3, 4, 8, 16, 32, 59, 150]\n",
    "data = [0, 1, 1, 1, 1, 4, 6, 9, 13, 48]\n",
    "theta_real = 0.35\n",
    "\n",
    "beta_params = [(1, 1), (20, 20), (1, 4)]\n",
    "dist = scipy.stats.beta\n",
    "x = np.linspace(0, 1, 200)\n",
    "\n",
    "for idx, N in enumerate(n_trials):\n",
    "    if idx == 0:\n",
    "        plt.subplot(4, 3, 2)\n",
    "        plt.xlabel('Θ')\n",
    "    else:\n",
    "        plt.subplot(4, 3, idx + 3)\n",
    "        plt.xticks([])\n",
    "        \n",
    "    y = data[idx]\n",
    "    for (a_prior, b_prior) in beta_params:\n",
    "        p_theta_given_y = dist.pdf(x, a_prior + y, b_prior + N - y)\n",
    "        plt.fill_between(x, 0, p_theta_given_y, alpha=0.7)\n",
    "\n",
    "    plt.axvline(theta_real, ymax=0.3, color='k')\n",
    "    if n_trials[idx] != 0:\n",
    "        plt.axvline(data[idx] / n_trials[idx], ymax=0.3, color='y', linestyle='--')\n",
    "    plt.plot(0, 0, label=f'{N:4d} trials\\n{y:4d} heads', alpha=0)\n",
    "    plt.xlim(0, 1)\n",
    "    plt.ylim(0, 12)\n",
    "    plt.legend()\n",
    "    plt.yticks([])\n",
    "\n",
    "plt.tight_layout()\n",
    "plt.show()"
   ]
  },
  {
   "cell_type": "markdown",
   "source": [
    "As the number of samples grows, the mode of the distributions approaches the ratio of the number of heads to the total number of tosses."
   ],
   "metadata": {
    "collapsed": false
   }
  },
  {
   "cell_type": "code",
   "execution_count": null,
   "outputs": [],
   "source": [],
   "metadata": {
    "collapsed": false
   }
  }
 ],
 "metadata": {
  "kernelspec": {
   "display_name": "Python 3 (ipykernel)",
   "language": "python",
   "name": "python3"
  },
  "language_info": {
   "codemirror_mode": {
    "name": "ipython",
    "version": 3
   },
   "file_extension": ".py",
   "mimetype": "text/x-python",
   "name": "python",
   "nbconvert_exporter": "python",
   "pygments_lexer": "ipython3",
   "version": "3.10.11"
  }
 },
 "nbformat": 4,
 "nbformat_minor": 5
}
