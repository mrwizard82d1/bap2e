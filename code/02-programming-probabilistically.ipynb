{
 "cells": [
  {
   "cell_type": "code",
   "execution_count": null,
   "metadata": {
    "pycharm": {
     "is_executing": false
    }
   },
   "outputs": [],
   "source": [
    "# -*- coding: UTF-8 -*-\n",
    "\n",
    "import numpy as np\n",
    "import matplotlib.pyplot as plt\n",
    "import pandas as pd\n",
    "import seaborn as sns\n",
    "import scipy.stats as stats\n",
    "import pymc3 as pm\n",
    "import arviz as az"
   ]
  },
  {
   "cell_type": "code",
   "execution_count": null,
   "metadata": {
    "collapsed": false,
    "jupyter": {
     "outputs_hidden": false
    },
    "pycharm": {
     "is_executing": false,
     "name": "#%%\n"
    }
   },
   "outputs": [],
   "source": [
    "np.random.seed(123)\n",
    "trials = 4\n",
    "theta_real = 0.35 ## unknown value in a real experiment\n",
    "data = stats.bernoulli.rvs(p=theta_real, size=trials)"
   ]
  },
  {
   "cell_type": "code",
   "execution_count": null,
   "metadata": {
    "collapsed": false,
    "jupyter": {
     "outputs_hidden": false
    },
    "pycharm": {
     "is_executing": false,
     "name": "#%%\n"
    }
   },
   "outputs": [],
   "source": [
    "sns.kdeplot(data)"
   ]
  },
  {
   "cell_type": "code",
   "execution_count": null,
   "metadata": {
    "collapsed": false,
    "jupyter": {
     "outputs_hidden": false
    },
    "pycharm": {
     "is_executing": true,
     "name": "#%%\n"
    }
   },
   "outputs": [],
   "source": [
    "with pm.Model() as our_first_model:\n",
    "    Θ = pm.Beta('Θ', alpha=1., beta=1.)\n",
    "    y = pm.Bernoulli('y', p=Θ, observed=data)\n",
    "    trace = pm.sample(1000, random_seed=123)"
   ]
  },
  {
   "cell_type": "code",
   "execution_count": null,
   "metadata": {
    "collapsed": false,
    "jupyter": {
     "outputs_hidden": false
    },
    "pycharm": {
     "is_executing": true,
     "name": "#%%\n"
    }
   },
   "outputs": [],
   "source": [
    "az.plot_trace(trace)"
   ]
  },
  {
   "cell_type": "code",
   "execution_count": null,
   "metadata": {
    "collapsed": false,
    "jupyter": {
     "outputs_hidden": false
    },
    "pycharm": {
     "is_executing": true,
     "name": "#%%\n"
    }
   },
   "outputs": [],
   "source": [
    "summary = az.summary(trace)\n",
    "summary"
   ]
  },
  {
   "cell_type": "code",
   "execution_count": null,
   "metadata": {
    "collapsed": false,
    "jupyter": {
     "outputs_hidden": false
    },
    "pycharm": {
     "is_executing": true,
     "name": "#%%\n"
    }
   },
   "outputs": [],
   "source": [
    "az.plot_posterior(trace)"
   ]
  },
  {
   "cell_type": "code",
   "execution_count": null,
   "metadata": {
    "collapsed": false,
    "jupyter": {
     "outputs_hidden": false
    },
    "pycharm": {
     "is_executing": true,
     "name": "#%%\n"
    }
   },
   "outputs": [],
   "source": [
    "az.plot_posterior(trace, rope=(0.45, 0.55))"
   ]
  },
  {
   "cell_type": "code",
   "execution_count": null,
   "metadata": {
    "collapsed": false,
    "jupyter": {
     "outputs_hidden": false
    },
    "pycharm": {
     "is_executing": true,
     "name": "#%%\n"
    }
   },
   "outputs": [],
   "source": [
    "az.plot_posterior(trace, ref_val=0.5)"
   ]
  },
  {
   "cell_type": "code",
   "execution_count": null,
   "metadata": {
    "collapsed": false,
    "jupyter": {
     "outputs_hidden": false
    },
    "pycharm": {
     "is_executing": true,
     "name": "#%%\n"
    }
   },
   "outputs": [],
   "source": [
    "# Compare two loss functions over the posterior\n",
    "\n",
    "grid = np.linspace(0, 1, 200)  # Use a grid of 200 for sampling / plotting\n",
    "Θ_posterior = trace['Θ']\n",
    "\n",
    "# Loss proportional to absolute value of difference from \"actual\" mean\n",
    "loss_f_abs = [np.mean(abs(i - Θ_posterior)) for i in grid]\n",
    "# Loss proportional to square of difference from \"actual\" mean\n",
    "loss_f_quad = [np.mean((i - Θ_posterior) **2) for i in grid]\n",
    "\n",
    "# Plot the mean loss over all \"actual\" means using colors specific to each loss function\n",
    "for loss_f, color in zip([loss_f_abs, loss_f_quad], ['C0', 'C1']):\n",
    "    minimum = np.argmin(loss_f)\n",
    "    plt.plot(grid, loss_f, color)  # plot the loss curve over all \"actual\" means\n",
    "    plt.plot(grid[minimum], loss_f[minimum], 'o', color=color)  # plot the minimum loss point\n",
    "    # label the point with the loss value\n",
    "    plt.annotate(f'{grid[minimum]:.2f}:', (grid[minimum], loss_f[minimum] + 0.03), color=color)\n",
    "    plt.yticks([])  # No y-ticks\n",
    "    plt.xlabel(r'$\\hat \\theta$')\n",
    "    \n",
    "    # Not that the minimum of the quadratic loss function occurs at the mean of the posterior \n",
    "    # and the minimum of the absolute loss function occurs at the median. See Jaynes, section 13.9, \n",
    "    # for a detailed example."
   ]
  },
  {
   "cell_type": "code",
   "execution_count": null,
   "metadata": {
    "collapsed": false,
    "jupyter": {
     "outputs_hidden": false
    },
    "pycharm": {
     "is_executing": true,
     "name": "#%%\n"
    }
   },
   "outputs": [],
   "source": [
    "# A silly example of a complex loss function\n",
    "\n",
    "losses = []\n",
    "for i in grid:\n",
    "    if i < 0.5:\n",
    "        f = np.mean(np.pi * Θ_posterior / np.abs(i - Θ_posterior))\n",
    "    else:\n",
    "        f = np.mean(1 / (i - Θ_posterior))\n",
    "    losses.append(f)\n",
    "    \n",
    "minimum = np.argmin(losses)\n",
    "plt.plot(grid, losses)\n",
    "plt.plot(grid[minimum], losses[minimum], 'o')\n",
    "plt.annotate(f'{grid[minimum]:.2f}', (grid[minimum] + 0.01, losses[minimum] + 0.1))\n",
    "plt.yticks([])\n",
    "plt.xlabel(r'$\\hat \\theta$')"
   ]
  },
  {
   "cell_type": "code",
   "execution_count": null,
   "metadata": {
    "collapsed": false,
    "jupyter": {
     "outputs_hidden": false
    },
    "pycharm": {
     "is_executing": true,
     "name": "#%%\n"
    }
   },
   "outputs": [],
   "source": [
    "data = np.loadtxt('./data/chemical_shifts.csv')\n",
    "az.plot_kde(data, rug=True)\n",
    "plt.yticks([0], alpha=0)"
   ]
  },
  {
   "cell_type": "code",
   "execution_count": null,
   "metadata": {
    "collapsed": false,
    "jupyter": {
     "outputs_hidden": false
    },
    "pycharm": {
     "is_executing": true,
     "name": "#%%\n"
    }
   },
   "outputs": [],
   "source": [
    "with pm.Model() as model_g:\n",
    "    µ = pm.Uniform('µ', lower=40, upper=70)\n",
    "    σ = pm.HalfNormal('σ', sd=10)\n",
    "    y = pm.Normal('y', mu=µ, sd=σ, observed=data)\n",
    "    trace_g = pm.sample(1000)"
   ]
  },
  {
   "cell_type": "code",
   "execution_count": null,
   "metadata": {
    "collapsed": false,
    "jupyter": {
     "outputs_hidden": false
    },
    "pycharm": {
     "is_executing": true,
     "name": "#%%\n"
    }
   },
   "outputs": [],
   "source": [
    "az.plot_trace(trace_g)"
   ]
  },
  {
   "cell_type": "code",
   "execution_count": null,
   "metadata": {
    "collapsed": false,
    "jupyter": {
     "outputs_hidden": false
    },
    "pycharm": {
     "is_executing": true,
     "name": "#%%\n"
    }
   },
   "outputs": [],
   "source": [
    "az.plot_joint(trace_g, kind='kde', fill_last=False)"
   ]
  },
  {
   "cell_type": "code",
   "execution_count": null,
   "metadata": {
    "collapsed": false,
    "jupyter": {
     "outputs_hidden": false
    },
    "pycharm": {
     "is_executing": true,
     "name": "#%%\n"
    }
   },
   "outputs": [],
   "source": [
    "trace_g['σ']"
   ]
  },
  {
   "cell_type": "code",
   "execution_count": null,
   "metadata": {
    "collapsed": false,
    "jupyter": {
     "outputs_hidden": false
    },
    "pycharm": {
     "is_executing": true,
     "name": "#%%\n"
    }
   },
   "outputs": [],
   "source": [
    "az.plot_kde(trace_g['σ'])"
   ]
  },
  {
   "cell_type": "code",
   "execution_count": null,
   "metadata": {
    "collapsed": false,
    "jupyter": {
     "outputs_hidden": false
    },
    "pycharm": {
     "is_executing": true,
     "name": "#%%\n"
    }
   },
   "outputs": [],
   "source": [
    "az.summary(trace_g)"
   ]
  },
  {
   "cell_type": "code",
   "execution_count": null,
   "metadata": {
    "collapsed": false,
    "jupyter": {
     "outputs_hidden": false
    },
    "pycharm": {
     "is_executing": true,
     "name": "#%%\n"
    }
   },
   "outputs": [],
   "source": [
    "y_pred_g = pm.sample_posterior_predictive(trace_g, 100, model_g)\n",
    "data_ppc = az.from_pymc3(trace=trace_g, posterior_predictive=y_pred_g)\n",
    "ax = az.plot_ppc(data_ppc, figsize=(12, 6), mean=False)\n",
    "ax[0].legend(fontsize=15)\n"
   ]
  },
  {
   "cell_type": "code",
   "execution_count": null,
   "metadata": {
    "pycharm": {
     "is_executing": true
    }
   },
   "outputs": [],
   "source": [
    "stats.describe(data)"
   ]
  },
  {
   "cell_type": "code",
   "execution_count": null,
   "metadata": {
    "pycharm": {
     "is_executing": true
    }
   },
   "outputs": [],
   "source": [
    "# Identify outliers less than Q1 - 1.5 * IQR (Tukey's fences)\n",
    "data[data < np.percentile(data, 25, interpolation='midpoint') - 1.5 * stats.iqr(data)]"
   ]
  },
  {
   "cell_type": "code",
   "execution_count": null,
   "metadata": {
    "pycharm": {
     "is_executing": true
    }
   },
   "outputs": [],
   "source": [
    "# Identify outliers greater than Q3 + 1.5 * IQR (Tukey's fences)\n",
    "data[data > np.percentile(data, 75, interpolation='midpoint') + 1.5 * stats.iqr(data)]"
   ]
  },
  {
   "cell_type": "code",
   "execution_count": null,
   "metadata": {
    "pycharm": {
     "is_executing": true
    }
   },
   "outputs": [],
   "source": [
    "# Identify outliers less than mean - 2 * std\n",
    "data[data < np.mean(data) - 2 * np.std(data)]"
   ]
  },
  {
   "cell_type": "code",
   "execution_count": null,
   "metadata": {
    "pycharm": {
     "is_executing": true
    }
   },
   "outputs": [],
   "source": [
    "# Identify outliers greater than mean + 2 * std\n",
    "data[data > np.mean(data) + 2 * np.std(data)]"
   ]
  },
  {
   "cell_type": "code",
   "execution_count": null,
   "metadata": {
    "collapsed": false,
    "jupyter": {
     "outputs_hidden": false
    },
    "pycharm": {
     "is_executing": true,
     "name": "#%%\n"
    }
   },
   "outputs": [],
   "source": [
    "# Identify outliers greater than mean + 2.5 * std\n",
    "data[data > np.mean(data) + 2.5 * np.std(data)]"
   ]
  },
  {
   "cell_type": "code",
   "execution_count": null,
   "metadata": {
    "collapsed": false,
    "jupyter": {
     "outputs_hidden": false
    },
    "pycharm": {
     "is_executing": true,
     "name": "#%%\n"
    }
   },
   "outputs": [],
   "source": [
    "# Identify outliers greater than mean + 3 * std\n",
    "data[data > np.mean(data) + 3 * np.std(data)]"
   ]
  },
  {
   "cell_type": "code",
   "execution_count": null,
   "metadata": {
    "collapsed": false,
    "jupyter": {
     "outputs_hidden": false
    },
    "pycharm": {
     "is_executing": true,
     "name": "#%%\n"
    }
   },
   "outputs": [],
   "source": [
    "lorentz_means = [np.mean(stats.t(loc=0, df=1).rvs(100)) for _ in range(250)]\n",
    "# Freedman-Diaconis rule (https://stats.stackexchange.com/questions/798/calculating-optimal-number-of-bins-in-a-histogram)\n",
    "h = int(np.ceil(2 * stats.iqr(lorentz_means) * (len(lorentz_means) ** (1 / 3))))\n",
    "t_large_scale_means = [np.mean(stats.t(loc=0, df=100).rvs(100)) for _ in range(250)]\n",
    "bins = np.linspace(-2, 2, h)\n",
    "plt.hist([lorentz_means, t_large_scale_means], bins, alpha=0.5, label=['Lorentz Means', 'Large Scale Means'])\n",
    "plt.legend()"
   ]
  },
  {
   "cell_type": "code",
   "execution_count": null,
   "metadata": {
    "collapsed": false,
    "jupyter": {
     "outputs_hidden": false
    },
    "pycharm": {
     "is_executing": true,
     "name": "#%%\n"
    }
   },
   "outputs": [],
   "source": [
    "plt.figure(figsize=(10, 6))\n",
    "x_values = np.linspace(-10, 10, 500)\n",
    "for df in [1, 2, 30]:\n",
    "    distribution = stats.t(df)\n",
    "    x_pdf = distribution.pdf(x_values)\n",
    "    plt.plot(x_values, x_pdf, label=fr'$\\nu = {df}$', lw=3)\n",
    "\n",
    "xn_pdf = stats.norm.pdf(x_values)\n",
    "plt.plot(x_values, xn_pdf, 'k--', label=r'$\\nu = \\infty$')\n",
    "plt.xlabel('x')\n",
    "plt.yticks([])\n",
    "plt.legend()\n",
    "plt.xlim(-5, 5)"
   ]
  },
  {
   "cell_type": "code",
   "execution_count": null,
   "metadata": {
    "collapsed": false,
    "jupyter": {
     "outputs_hidden": false
    },
    "pycharm": {
     "is_executing": false,
     "name": "#%%\n"
    }
   },
   "outputs": [],
   "source": [
    "with pm.Model() as model_t:\n",
    "    µ = pm.Uniform('µ', 40, 75)\n",
    "    σ = pm.HalfNormal('σ', sd=10)\n",
    "    nu = pm.Exponential('\\u03bd', 1/30)\n",
    "    y = pm.StudentT('y', mu=µ, sd=σ, nu=nu, observed=data)\n",
    "    trace_t = pm.sample(1000)\n",
    "az.plot_trace(trace_t)"
   ]
  },
  {
   "cell_type": "code",
   "execution_count": null,
   "metadata": {
    "pycharm": {
     "is_executing": false
    }
   },
   "outputs": [],
   "source": [
    "az.summary(trace_t)"
   ]
  },
  {
   "cell_type": "code",
   "execution_count": null,
   "metadata": {
    "collapsed": false,
    "jupyter": {
     "outputs_hidden": false
    },
    "pycharm": {
     "name": "#%%\n"
    }
   },
   "outputs": [],
   "source": [
    "y_ppc_t = pm.sample_posterior_predictive(trace_t, 100, model_t, random_seed=123)\n",
    "y_pred_t = az.from_pymc3(trace=trace_t, posterior_predictive=y_ppc_t)\n",
    "az.plot_ppc(y_pred_t, figsize=(12, 6), mean=False)\n",
    "ax[0].legend(fontsize=15)\n",
    "plt.xlim(40, 70)"
   ]
  }
 ],
 "metadata": {
  "kernelspec": {
   "display_name": "Python 3",
   "language": "python",
   "name": "python3"
  },
  "language_info": {
   "codemirror_mode": {
    "name": "ipython",
    "version": 3
   },
   "file_extension": ".py",
   "mimetype": "text/x-python",
   "name": "python",
   "nbconvert_exporter": "python",
   "pygments_lexer": "ipython3",
   "version": "3.7.6"
  },
  "pycharm": {
   "stem_cell": {
    "cell_type": "raw",
    "metadata": {
     "collapsed": false
    },
    "source": []
   }
  }
 },
 "nbformat": 4,
 "nbformat_minor": 4
}
