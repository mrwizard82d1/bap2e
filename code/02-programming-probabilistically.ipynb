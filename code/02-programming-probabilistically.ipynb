{
 "cells": [
  {
   "cell_type": "code",
   "execution_count": null,
   "metadata": {
    "pycharm": {
     "is_executing": false
    }
   },
   "outputs": [],
   "source": [
    "# -*- coding: UTF-8 -*-\n",
    "\n",
    "import numpy as np\n",
    "import matplotlib.pyplot as plt\n",
    "import pandas as pd\n",
    "import seaborn as sns\n",
    "import scipy.stats\n",
    "import pymc3 as pm\n",
    "import arviz as az"
   ]
  },
  {
   "cell_type": "code",
   "execution_count": null,
   "metadata": {
    "collapsed": false,
    "jupyter": {
     "outputs_hidden": false
    },
    "pycharm": {
     "is_executing": false,
     "name": "#%%\n"
    }
   },
   "outputs": [],
   "source": [
    "np.random.seed(123)\n",
    "trials = 4\n",
    "theta_real = 0.35 ## unknown value in a real experiment\n",
    "data = scipy.stats.bernoulli.rvs(p=theta_real, size=trials)"
   ]
  },
  {
   "cell_type": "code",
   "execution_count": null,
   "metadata": {
    "collapsed": false,
    "jupyter": {
     "outputs_hidden": false
    },
    "pycharm": {
     "is_executing": false,
     "name": "#%%\n"
    }
   },
   "outputs": [],
   "source": [
    "sns.kdeplot(data)"
   ]
  },
  {
   "cell_type": "code",
   "execution_count": null,
   "metadata": {
    "collapsed": false,
    "jupyter": {
     "outputs_hidden": false
    },
    "pycharm": {
     "is_executing": false,
     "name": "#%%\n"
    }
   },
   "outputs": [],
   "source": [
    "with pm.Model() as our_first_model:\n",
    "    Θ = pm.Beta('Θ', alpha=1., beta=1.)\n",
    "    y = pm.Bernoulli('y', p=Θ, observed=data)\n",
    "    trace = pm.sample(1000, random_seed=123)"
   ]
  },
  {
   "cell_type": "code",
   "execution_count": null,
   "metadata": {
    "collapsed": false,
    "jupyter": {
     "outputs_hidden": false
    },
    "pycharm": {
     "is_executing": false,
     "name": "#%%\n"
    }
   },
   "outputs": [],
   "source": [
    "az.plot_trace(trace)"
   ]
  },
  {
   "cell_type": "code",
   "execution_count": null,
   "metadata": {
    "collapsed": false,
    "jupyter": {
     "outputs_hidden": false
    },
    "pycharm": {
     "is_executing": false,
     "name": "#%%\n"
    }
   },
   "outputs": [],
   "source": [
    "summary = az.summary(trace)\n",
    "summary"
   ]
  },
  {
   "cell_type": "code",
   "execution_count": null,
   "metadata": {
    "collapsed": false,
    "jupyter": {
     "outputs_hidden": false
    },
    "pycharm": {
     "is_executing": false,
     "name": "#%%\n"
    }
   },
   "outputs": [],
   "source": [
    "az.plot_posterior(trace)"
   ]
  },
  {
   "cell_type": "code",
   "execution_count": null,
   "metadata": {
    "collapsed": false,
    "jupyter": {
     "outputs_hidden": false
    },
    "pycharm": {
     "is_executing": false,
     "name": "#%%\n"
    }
   },
   "outputs": [],
   "source": [
    "az.plot_posterior(trace, rope=(0.45, 0.55))"
   ]
  },
  {
   "cell_type": "code",
   "execution_count": null,
   "metadata": {
    "collapsed": false,
    "jupyter": {
     "outputs_hidden": false
    },
    "pycharm": {
     "is_executing": false,
     "name": "#%%\n"
    }
   },
   "outputs": [],
   "source": [
    "az.plot_posterior(trace, ref_val=0.5)"
   ]
  },
  {
   "cell_type": "code",
   "execution_count": null,
   "metadata": {
    "collapsed": false,
    "jupyter": {
     "outputs_hidden": false
    },
    "pycharm": {
     "is_executing": false,
     "name": "#%%\n"
    }
   },
   "outputs": [],
   "source": [
    "# Compare two loss functions over the posterior\n",
    "\n",
    "grid = np.linspace(0, 1, 200)  # Use a grid of 200 for sampling / plotting\n",
    "Θ_posterior = trace['Θ']\n",
    "\n",
    "# Loss proportional to absolute value of difference from \"actual\" mean\n",
    "loss_f_abs = [np.mean(abs(i - Θ_posterior)) for i in grid]\n",
    "# Loss proportional to square of difference from \"actual\" mean\n",
    "loss_f_quad = [np.mean((i - Θ_posterior) **2) for i in grid]\n",
    "\n",
    "# Plot the mean loss over all \"actual\" means using colors specific to each loss function\n",
    "for loss_f, color in zip([loss_f_abs, loss_f_quad], ['C0', 'C1']):\n",
    "    minimum = np.argmin(loss_f)\n",
    "    plt.plot(grid, loss_f, color)  # plot the loss curve over all \"actual\" means\n",
    "    plt.plot(grid[minimum], loss_f[minimum], 'o', color=color)  # plot the minimum loss point\n",
    "    # label the point with the loss value\n",
    "    plt.annotate(f'{grid[minimum]:.2f}:', (grid[minimum], loss_f[minimum] + 0.03), color=color)\n",
    "    plt.yticks([])  # No y-ticks\n",
    "    plt.xlabel(r'$\\hat \\theta$')\n",
    "    \n",
    "    # Not that the minimum of the quadratic loss function occurs at the mean of the posterior \n",
    "    # and the minimum of the absolute loss function occurs at the median. See Jaynes, section 13.9, \n",
    "    # for a detailed example."
   ]
  },
  {
   "cell_type": "code",
   "execution_count": null,
   "outputs": [],
   "source": [
    "# A silly example of a complex loss function\n",
    "\n",
    "losses = []\n",
    "for i in grid:\n",
    "    if i < 0.5:\n",
    "        f = np.mean(np.pi * Θ_posterior / np.abs(i - Θ_posterior))\n",
    "    else:\n",
    "        f = np.mean(1 / (i - Θ_posterior))\n",
    "    losses.append(f)\n",
    "    \n",
    "minimum = np.argmin(losses)\n",
    "plt.plot(grid, losses)\n",
    "plt.plot(grid[minimum], losses[minimum], 'o')\n",
    "plt.annotate(f'{grid[minimum]:.2f}', (grid[minimum] + 0.01, losses[minimum] + 0.1))\n",
    "plt.yticks([])\n",
    "plt.xlabel(r'$\\hat \\theta$')\n"
   ],
   "metadata": {
    "collapsed": false,
    "pycharm": {
     "name": "#%%\n"
    }
   }
  }
 ],
 "metadata": {
  "kernelspec": {
   "display_name": "Python 3",
   "language": "python",
   "name": "python3"
  },
  "language_info": {
   "codemirror_mode": {
    "name": "ipython",
    "version": 3
   },
   "file_extension": ".py",
   "mimetype": "text/x-python",
   "name": "python",
   "nbconvert_exporter": "python",
   "pygments_lexer": "ipython3",
   "version": "3.7.6"
  },
  "pycharm": {
   "stem_cell": {
    "cell_type": "raw",
    "source": [],
    "metadata": {
     "collapsed": false
    }
   }
  }
 },
 "nbformat": 4,
 "nbformat_minor": 4
}
