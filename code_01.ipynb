{
 "cells": [
  {
   "cell_type": "markdown",
   "source": [
    "# Code Chapter 01"
   ],
   "metadata": {
    "collapsed": false
   }
  },
  {
   "cell_type": "markdown",
   "source": [
    "## Typical imports"
   ],
   "metadata": {
    "collapsed": false
   }
  },
  {
   "cell_type": "code",
   "execution_count": null,
   "outputs": [],
   "source": [
    "import numpy as np\n",
    "import matplotlib.pyplot as plt\n",
    "import pandas as pd\n",
    "import seaborn as sns\n",
    "import scipy"
   ],
   "metadata": {
    "collapsed": false
   }
  },
  {
   "cell_type": "code",
   "execution_count": null,
   "outputs": [],
   "source": [
    "import arviz\n",
    "import pymc3"
   ],
   "metadata": {
    "collapsed": false
   }
  },
  {
   "cell_type": "markdown",
   "source": [
    "## Thinking probabilistically"
   ],
   "metadata": {
    "collapsed": false
   }
  },
  {
   "cell_type": "markdown",
   "source": [
    "### Probability distributions"
   ],
   "metadata": {
    "collapsed": false
   }
  },
  {
   "cell_type": "markdown",
   "source": [
    "#### Investigating the normal distribution with Python"
   ],
   "metadata": {
    "collapsed": false
   }
  },
  {
   "cell_type": "code",
   "execution_count": null,
   "outputs": [],
   "source": [
    "µ = 0.\n",
    "σ = 1.\n",
    "X = scipy.stats.norm(µ, σ)\n",
    "x = X.rvs(1000)"
   ],
   "metadata": {
    "collapsed": false
   }
  },
  {
   "cell_type": "code",
   "execution_count": null,
   "outputs": [],
   "source": [
    "scipy.stats.describe(x).mean"
   ],
   "metadata": {
    "collapsed": false
   }
  },
  {
   "cell_type": "code",
   "execution_count": null,
   "outputs": [],
   "source": [
    "(x < 1.96).sum() - (x < -1.97).sum()"
   ],
   "metadata": {
    "collapsed": false
   }
  },
  {
   "cell_type": "markdown",
   "source": [
    "#### The Gaussian (Normal) distribution"
   ],
   "metadata": {
    "collapsed": false
   }
  },
  {
   "cell_type": "code",
   "execution_count": null,
   "outputs": [],
   "source": [
    "mu_params = [-1, 0, 1]\n",
    "sd_params = [0.5, 1, 1.5]\n",
    "x = np.linspace(-7, 7, 100)\n",
    "\n",
    "_, ax = plt.subplots(len(mu_params), len(sd_params),\n",
    "                     sharex='all', sharey='all',\n",
    "                     figsize=(9, 7), constrained_layout=True)\n",
    "for i in range(len(mu_params)):\n",
    "    for j in range(len(sd_params)):\n",
    "        mu = mu_params[i]\n",
    "        sd = sd_params[j]\n",
    "        # Sample a normal distribution at all x\n",
    "        y = scipy.stats.norm(mu, sd).pdf(x)\n",
    "        ax[i, j].plot(x, y)\n",
    "        ax[i, j].plot([], label=f'μ={mu:3.2f}\\nσ={sd:3.2f}', alpha=0)\n",
    "        ax[i, j].legend(loc=1)\n",
    "ax[2, 1].set_xlabel('x')\n",
    "ax[1, 0].set_ylabel('p(x)', rotation=0, labelpad=20)\n",
    "ax[1, 0].set_yticks([])  # no `xticks` because values not necessary for understanding"
   ],
   "metadata": {
    "collapsed": false
   }
  },
  {
   "cell_type": "markdown",
   "source": [
    "### Independently and identically distributed variables"
   ],
   "metadata": {
    "collapsed": false
   }
  },
  {
   "cell_type": "code",
   "execution_count": null,
   "outputs": [],
   "source": [
    "data = np.genfromtxt('./data/mauna_loa_CO2.csv', delimiter=',')\n",
    "plt.plot(data[:, 0], data[:, 1])\n",
    "plt.xlabel('year')\n",
    "plt.ylabel('$CO_2$ (ppmv)')"
   ],
   "metadata": {
    "collapsed": false
   }
  },
  {
   "cell_type": "markdown",
   "source": [
    "## The \"mandatory\" coin flipping problem"
   ],
   "metadata": {
    "collapsed": false
   }
  },
  {
   "cell_type": "markdown",
   "source": [
    "### Choosing the likelihood (for the coin flipping problem)"
   ],
   "metadata": {
    "collapsed": false
   }
  },
  {
   "cell_type": "code",
   "execution_count": null,
   "outputs": [],
   "source": [
    "n_params = [1, 2, 4]  # Number of trials\n",
    "p_params = [0.25, 0.5, 0.75]  # Probability of success\n",
    "\n",
    "x = np.arange(0, max(n_params))\n",
    "f, ax = plt.subplots(len(n_params), len(p_params),\n",
    "                     sharex='all', sharey='all',\n",
    "                     figsize=(8, 7), constrained_layout=True)\n",
    "\n",
    "for i in range(len(n_params)):\n",
    "    for j in range(len(p_params)):\n",
    "        n = n_params[i]\n",
    "        p = p_params[j]\n",
    "\n",
    "        y = scipy.stats.binom(n=n, p=p).pmf(x)\n",
    "\n",
    "        ax[i, j].vlines(x, 0, y, colors='C0', lw=5)\n",
    "        ax[i, j].set_ylim(0, 1)\n",
    "        ax[i, j].plot(0, 0, label=f'N = {n:3.2f}\\nθ = {p:3.2f}', alpha=0)\n",
    "        ax[i, j].legend()\n",
    "        ax[2, 1].set_ylabel('y')\n",
    "        ax[1, 0].set_ylabel('p(y | Θ, N')\n",
    "        ax[0, 0].set_xticks(x)"
   ],
   "metadata": {
    "collapsed": false
   }
  },
  {
   "cell_type": "markdown",
   "source": [
    "### Choosing the prior (for the coin flipping problem)"
   ],
   "metadata": {
    "collapsed": false
   }
  },
  {
   "cell_type": "code",
   "execution_count": null,
   "outputs": [],
   "source": [
    "params = [0.5, 1, 2, 3]\n",
    "x = np.linspace(0, 1, 100)\n",
    "f, ax = plt.subplots(len(params), len(params),\n",
    "                     sharex='all', sharey='all',\n",
    "                     figsize=(8, 7), constrained_layout=True)\n",
    "\n",
    "for i in range(len(params)):\n",
    "    for j in range(len(params)):\n",
    "        a = params[i]\n",
    "        b = params[j]\n",
    "        y = scipy.stats.beta(a, b).pdf(x)\n",
    "\n",
    "        ax[i, j].plot(x, y)\n",
    "        ax[i, j].plot(0, 0, label=f'α = {a:2.1f}i\\nß = {b:2.1f}', alpha=0)\n",
    "        ax[i, j].legend()\n",
    "ax[1, 0].set_yticks([])  # no y-ticks - visual relative appearance is sufficient\n",
    "ax[1, 0].set_xticks([0, 0.5, 1])  # Beta distribution has domain of [0, 1]\n",
    "f.text(0.5, 0.05, 'Θ', ha='center')  # Label the x-axis of the **figure**\n",
    "f.text(0.7, 0.5, 'p(Θ)', va='center', rotation=0)  # Label the y-axis of the figure but rotate the text to be vertical"
   ],
   "metadata": {
    "collapsed": false
   }
  },
  {
   "cell_type": "markdown",
   "source": [
    "### Computing and plotting the posterior"
   ],
   "metadata": {
    "collapsed": false
   }
  },
  {
   "cell_type": "code",
   "execution_count": null,
   "outputs": [],
   "source": [
    "plt.figure(figsize=(10, 8))\n",
    "\n",
    "# Actual data\n",
    "n_trials = [0, 1, 2, 3, 4, 8, 16, 32, 50, 150]\n",
    "data = [0, 1, 1, 1, 1, 4, 6, 9, 13, 48]\n",
    "theta_real = 0.35\n",
    "\n",
    "beta_params = [(1, 1), (20, 20), (1, 4)]\n",
    "dist = scipy.stats.beta  # The beta distribution from `scipy.stats`\n",
    "x = np.linspace(0, 1, 200)  # 200 points spaced regularly between 0 and 1\n",
    "\n",
    "for idx, N in enumerate(n_trials):\n",
    "    if idx == 0:\n",
    "        # The first item in the plot is \"special\"\n",
    "        plt.subplot(4, 3, 2)  # The second plot in a 4x3 array of plots\n",
    "        plt.xlabel('Θ')\n",
    "    else:\n",
    "        plt.subplot(4, 3, idx + 3)  # Add 3 to skip first row\n",
    "        plt.xticks([])  # No x-ticks\n",
    "    y = data[idx]\n",
    "    for (a_prior, b_prior) in beta_params:\n",
    "        # The probability of theta given y (the data).\n",
    "        # The calculation uses the fact the Beta and Binomial distributions are conjugate priors.\n",
    "        # The result of the product of the prior and the likelihood is, itself, a Beta distribution.\n",
    "        p_theta_given_y = dist.pdf(x, a_prior + y, b_prior + N - y)\n",
    "        plt.fill_between(x, 0, p_theta_given_y, alpha=0.7)\n",
    "\n",
    "    plt.axvline(theta_real, ymax=0.3, color='k')  # Plot a vertical line indicating `theta_real`\n",
    "    plt.plot(0, 0, label=f'{N:4d} trials\\n{y:4d} heads', alpha=0)\n",
    "    plt.xlim(0, 1)  # Limits of the Beta distribution\n",
    "    plt.ylim(0, 12)\n",
    "    plt.legend()\n",
    "    plt.yticks([])\n",
    "plt.tight_layout()"
   ],
   "metadata": {
    "collapsed": false
   }
  },
  {
   "cell_type": "code",
   "execution_count": null,
   "outputs": [],
   "source": [],
   "metadata": {
    "collapsed": false
   }
  }
 ],
 "metadata": {
  "kernelspec": {
   "display_name": "Python 3",
   "language": "python",
   "name": "python3"
  },
  "language_info": {
   "codemirror_mode": {
    "name": "ipython",
    "version": 2
   },
   "file_extension": ".py",
   "mimetype": "text/x-python",
   "name": "python",
   "nbconvert_exporter": "python",
   "pygments_lexer": "ipython2",
   "version": "2.7.6"
  }
 },
 "nbformat": 4,
 "nbformat_minor": 0
}
