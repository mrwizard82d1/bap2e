{
 "cells": [
  {
   "cell_type": "markdown",
   "source": [
    "# Code Chapter 01"
   ],
   "metadata": {
    "collapsed": false
   }
  },
  {
   "cell_type": "markdown",
   "source": [
    "## Typical imports"
   ],
   "metadata": {
    "collapsed": false
   }
  },
  {
   "cell_type": "code",
   "execution_count": null,
   "outputs": [],
   "source": [
    "import numpy as np\n",
    "import matplotlib.pyplot as plt\n",
    "import pandas as pd\n",
    "import seaborn as sns\n",
    "import scipy"
   ],
   "metadata": {
    "collapsed": false,
    "ExecuteTime": {
     "start_time": "2023-04-26T03:08:50.780560Z",
     "end_time": "2023-04-26T03:08:50.794980Z"
    }
   }
  },
  {
   "cell_type": "code",
   "execution_count": null,
   "outputs": [],
   "source": [
    "import arviz\n",
    "import pymc3"
   ],
   "metadata": {
    "collapsed": false,
    "ExecuteTime": {
     "start_time": "2023-04-26T03:08:50.795979Z",
     "end_time": "2023-04-26T03:08:53.972980Z"
    }
   }
  },
  {
   "cell_type": "markdown",
   "source": [
    "## Thinking probabilistically"
   ],
   "metadata": {
    "collapsed": false
   }
  },
  {
   "cell_type": "markdown",
   "source": [
    "### Probability distributions"
   ],
   "metadata": {
    "collapsed": false
   }
  },
  {
   "cell_type": "markdown",
   "source": [
    "Investigating the normal distribution with Python"
   ],
   "metadata": {
    "collapsed": false
   }
  },
  {
   "cell_type": "code",
   "execution_count": null,
   "outputs": [],
   "source": [
    "µ = 0.\n",
    "σ = 1.\n",
    "X = scipy.stats.norm(µ, σ)\n",
    "x = X.rvs(1000)"
   ],
   "metadata": {
    "collapsed": false,
    "ExecuteTime": {
     "start_time": "2023-04-26T03:08:53.972980Z",
     "end_time": "2023-04-26T03:08:53.988315Z"
    }
   }
  },
  {
   "cell_type": "code",
   "execution_count": null,
   "outputs": [],
   "source": [
    "scipy.stats.describe(x).mean"
   ],
   "metadata": {
    "collapsed": false,
    "ExecuteTime": {
     "start_time": "2023-04-26T03:08:53.989316Z",
     "end_time": "2023-04-26T03:08:54.032986Z"
    }
   }
  },
  {
   "cell_type": "code",
   "execution_count": null,
   "outputs": [],
   "source": [
    "(x < 1.96).sum() - (x < -1.97).sum()"
   ],
   "metadata": {
    "collapsed": false,
    "ExecuteTime": {
     "start_time": "2023-04-26T03:08:54.003856Z",
     "end_time": "2023-04-26T03:08:54.033990Z"
    }
   }
  },
  {
   "cell_type": "markdown",
   "source": [
    "The Gaussian (Normal) distribution"
   ],
   "metadata": {
    "collapsed": false
   }
  },
  {
   "cell_type": "code",
   "execution_count": null,
   "outputs": [],
   "source": [
    "mu_params = [-1, 0, 1]\n",
    "sd_params = [0.5, 1, 1.5]\n",
    "x = np.linspace(-7, 7, 100)\n",
    "\n",
    "_, ax = plt.subplots(len(mu_params), len(sd_params),\n",
    "                     sharex='all', sharey='all',\n",
    "                     figsize=(9, 7), constrained_layout=True)\n",
    "for i in range(len(mu_params)):\n",
    "    for j in range(len(sd_params)):\n",
    "        mu = mu_params[i]\n",
    "        sd = sd_params[j]\n",
    "        # Sample a normal distribution at all x\n",
    "        y = scipy.stats.norm(mu, sd).pdf(x)\n",
    "        ax[i, j].plot(x, y)\n",
    "        ax[i, j].plot([], label=f'μ={mu:3.2f}\\nσ={sd:3.2f}', alpha=0)\n",
    "        ax[i, j].legend(loc=1)\n",
    "ax[2, 1].set_xlabel('x')\n",
    "ax[1, 0].set_ylabel('p(x)', rotation=0, labelpad=20)\n",
    "ax[1, 0].set_yticks([])  # no `xticks` because values not necessary for understanding"
   ],
   "metadata": {
    "collapsed": false,
    "ExecuteTime": {
     "start_time": "2023-04-26T03:11:51.952123Z",
     "end_time": "2023-04-26T03:11:52.833121Z"
    }
   }
  },
  {
   "cell_type": "code",
   "execution_count": null,
   "outputs": [],
   "source": [],
   "metadata": {
    "collapsed": false,
    "ExecuteTime": {
     "start_time": "2023-04-26T03:08:54.945747Z",
     "end_time": "2023-04-26T03:08:54.960288Z"
    }
   }
  }
 ],
 "metadata": {
  "kernelspec": {
   "display_name": "Python 3",
   "language": "python",
   "name": "python3"
  },
  "language_info": {
   "codemirror_mode": {
    "name": "ipython",
    "version": 2
   },
   "file_extension": ".py",
   "mimetype": "text/x-python",
   "name": "python",
   "nbconvert_exporter": "python",
   "pygments_lexer": "ipython2",
   "version": "2.7.6"
  }
 },
 "nbformat": 4,
 "nbformat_minor": 0
}
